{
 "cells": [
  {
   "cell_type": "code",
   "execution_count": 1,
   "metadata": {},
   "outputs": [
    {
     "name": "stdout",
     "output_type": "stream",
     "text": [
      "Number of pages in the PDF: 154\n"
     ]
    }
   ],
   "source": [
    "# Load and read PDF content\n",
    "from langchain_community.document_loaders import PDFPlumberLoader\n",
    "loader = PDFPlumberLoader(\"pdf/bgita.pdf\")\n",
    "docs = loader.load()\n",
    "print(\"Number of pages in the PDF:\", len(docs))\n",
    "\n",
    "# Extract text from each page for embedding\n",
    "doc_texts = [page.page_content for page in docs]\n",
    "#print(\" Document  texts\",doc_texts)"
   ]
  },
  {
   "cell_type": "code",
   "execution_count": 2,
   "metadata": {},
   "outputs": [
    {
     "name": "stderr",
     "output_type": "stream",
     "text": [
      "/Users/krishna/Documents/PROJECTS/Github/dcprchatbotapp/myenv/lib/python3.12/site-packages/tqdm/auto.py:21: TqdmWarning: IProgress not found. Please update jupyter and ipywidgets. See https://ipywidgets.readthedocs.io/en/stable/user_install.html\n",
      "  from .autonotebook import tqdm as notebook_tqdm\n",
      "Fetching 30 files: 100%|██████████| 30/30 [00:00<00:00, 136474.10it/s]\n",
      "You're using a XLMRobertaTokenizerFast tokenizer. Please note that with a fast tokenizer, using the `__call__` method is faster than using a method to encode the text followed by a call to the `pad` method to get a padded encoding.\n"
     ]
    }
   ],
   "source": [
    "from milvus_model.hybrid import BGEM3EmbeddingFunction\n",
    "import torch\n",
    "device = \"mps\" if torch.backends.mps.is_available() else \"cpu\"\n",
    "ef = BGEM3EmbeddingFunction(use_fp16=False, device=device)\n",
    "dense_dim = ef.dim[\"dense\"]\n",
    "\n",
    "# Generate embeddings using BGE-M3 model\n",
    "docs_embeddings = ef(doc_texts)"
   ]
  },
  {
   "cell_type": "code",
   "execution_count": 3,
   "metadata": {},
   "outputs": [
    {
     "data": {
      "text/plain": [
       "1024"
      ]
     },
     "execution_count": 3,
     "metadata": {},
     "output_type": "execute_result"
    }
   ],
   "source": [
    "dense_dim"
   ]
  },
  {
   "cell_type": "code",
   "execution_count": 4,
   "metadata": {},
   "outputs": [],
   "source": [
    "from pymilvus import (\n",
    "    FieldSchema,\n",
    "    utility,\n",
    "    CollectionSchema,\n",
    "    DataType,\n",
    "    connections,\n",
    "    Collection,\n",
    "    AnnSearchRequest,\n",
    "    WeightedRanker,\n",
    ")\n",
    "\n",
    "# Zilliz Cloud connection parameters\n",
    "uri = \"https://in03-4e569f605c32eab.serverless.gcp-us-west1.cloud.zilliz.com\"  # e.g., \"https://xxx.zillizcloud.com:443\"\n",
    "token =\"99cd003de770782d436a049c87fb669188dc4424443531a325043d7f42859ca8c3d058b952d2e92d33677cf72b4931d12150c29d\"\n",
    "# Connect to Zilliz Cloud\n",
    "connections.connect(\n",
    "    alias=\"default\",  # Connection alias, default is 'default'\n",
    "    uri=uri,\n",
    "    token=token,\n",
    "    secure=True\n",
    ")\n",
    "\n",
    "# Rest of your schema definition remains the same\n",
    "fields = [\n",
    "    FieldSchema(\n",
    "        name=\"pk\", dtype=DataType.VARCHAR, is_primary=True, auto_id=True, max_length=100\n",
    "    ),\n",
    "    FieldSchema(name=\"text\", dtype=DataType.VARCHAR, max_length=65535),\n",
    "    FieldSchema(name=\"sparse_vector\", dtype=DataType.SPARSE_FLOAT_VECTOR),\n",
    "    FieldSchema(name=\"dense_vector\", dtype=DataType.FLOAT_VECTOR, dim=1024),\n",
    "]\n",
    "schema = CollectionSchema(fields)\n"
   ]
  },
  {
   "cell_type": "code",
   "execution_count": 5,
   "metadata": {},
   "outputs": [],
   "source": [
    "# Create collection (drop the old one if exists)\n",
    "col_name = \"bhagavad_gita\"\n",
    "if utility.has_collection(col_name):\n",
    "    Collection(col_name).drop()\n",
    "\n",
    "# Create collection with the same schema but with cloud-optimized settings\n",
    "col = Collection(\n",
    "    name=col_name,\n",
    "    schema=schema,\n",
    "    consistency_level=\"Eventually\"  # Cloud recommended consistency level\n",
    ")\n",
    "\n",
    "# Create indices for hybrid search - optimized for cloud deployment\n",
    "sparse_index = {\n",
    "    \"index_type\": \"SPARSE_INVERTED_INDEX\",\n",
    "    \"metric_type\": \"IP\",\n",
    "    \"params\": {}  # Cloud default parameters\n",
    "}\n",
    "col.create_index(\n",
    "    field_name=\"sparse_vector\",\n",
    "    index_params=sparse_index\n",
    ")\n",
    "\n",
    "dense_index = {\n",
    "    \"index_type\": \"IVF_FLAT\",    # Changed from AUTOINDEX for better cloud performance\n",
    "    \"metric_type\": \"IP\",\n",
    "    \"params\": {\n",
    "        \"nlist\": 1024            # Number of clusters, adjust based on your data size\n",
    "    }\n",
    "}\n",
    "col.create_index(\n",
    "    field_name=\"dense_vector\",\n",
    "    index_params=dense_index\n",
    ")\n",
    "\n",
    "# Load collection into memory\n",
    "col.load()\n"
   ]
  },
  {
   "cell_type": "code",
   "execution_count": 6,
   "metadata": {},
   "outputs": [
    {
     "name": "stdout",
     "output_type": "stream",
     "text": [
      "Successfully inserted batch 1, Records 0 to 50\n",
      "Successfully inserted batch 2, Records 50 to 100\n",
      "Successfully inserted batch 3, Records 100 to 150\n",
      "Successfully inserted batch 4, Records 150 to 154\n",
      "Total entities inserted: 154\n",
      "Collection entity count: 154\n"
     ]
    },
    {
     "name": "stderr",
     "output_type": "stream",
     "text": [
      "RPC error: [create_alias], <MilvusException: (code=1602, message=latest_docs is alias to another collection: bhagavad_gita: alias already exist[database=db_4e569f605c32eab][alias=latest_docs])>, <Time:{'RPC start': '2025-02-05 14:05:29.332312', 'RPC error': '2025-02-05 14:05:29.635918'}>\n"
     ]
    },
    {
     "name": "stdout",
     "output_type": "stream",
     "text": [
      "Insertion process failed: <MilvusException: (code=1602, message=latest_docs is alias to another collection: bhagavad_gita: alias already exist[database=db_4e569f605c32eab][alias=latest_docs])>\n"
     ]
    }
   ],
   "source": [
    "import time\n",
    "from pymilvus import utility\n",
    "\n",
    "def insert_batch(collection, texts, sparse_vectors, dense_vectors, batch_size=50):\n",
    "    total_inserted = 0\n",
    "\n",
    "    try:\n",
    "        # For efficiency, we insert batch_size records at a time\n",
    "        for i in range(0, len(texts), batch_size):\n",
    "            batch_end = min(i + batch_size, len(texts))\n",
    "\n",
    "            # Prepare the current batch\n",
    "            batch_texts = texts[i:batch_end]\n",
    "            batch_sparse = sparse_vectors[i:batch_end]\n",
    "            batch_dense = dense_vectors[i:batch_end]\n",
    "\n",
    "            # Create entities list for insertion\n",
    "            entities = [\n",
    "                batch_texts,      # Text content\n",
    "                batch_sparse,     # Sparse vector embeddings\n",
    "                batch_dense,      # Dense vector embeddings\n",
    "            ]\n",
    "\n",
    "            # Insert with retry mechanism\n",
    "            max_retries = 3\n",
    "            for attempt in range(max_retries):\n",
    "                try:\n",
    "                    insert_result = collection.insert(entities)\n",
    "                    total_inserted += len(batch_texts)\n",
    "\n",
    "                    # Ensure data is persisted\n",
    "                    collection.flush()\n",
    "\n",
    "                    print(f\"Successfully inserted batch {i//batch_size + 1}, \"\n",
    "                          f\"Records {i} to {batch_end}\")\n",
    "                    break\n",
    "\n",
    "                except Exception as e:\n",
    "                    if attempt == max_retries - 1:\n",
    "                        print(f\"Failed to insert batch after {max_retries} attempts: {e}\")\n",
    "                        raise\n",
    "                    print(f\"Retry {attempt + 1}/{max_retries} after error: {e}\")\n",
    "                    time.sleep(2 ** attempt)  # Exponential backoff\n",
    "\n",
    "    except Exception as e:\n",
    "        print(f\"Error during insertion: {e}\")\n",
    "        raise\n",
    "\n",
    "    return total_inserted\n",
    "\n",
    "# Extract the raw text from Document objects\n",
    "doc_texts = [doc.page_content for doc in docs]\n",
    "\n",
    "# Perform the insertion\n",
    "try:\n",
    "    total_inserted = insert_batch(\n",
    "        collection=col,\n",
    "        texts=doc_texts,\n",
    "        sparse_vectors=docs_embeddings[\"sparse\"],\n",
    "        dense_vectors=docs_embeddings[\"dense\"],\n",
    "        batch_size=50\n",
    "    )\n",
    "\n",
    "    # Verify insertion\n",
    "    print(f\"Total entities inserted: {total_inserted}\")\n",
    "    print(f\"Collection entity count: {col.num_entities}\")\n",
    "\n",
    "    # Optional: Create an alias for the collection\n",
    "    utility.create_alias(\n",
    "        collection_name=col.name,\n",
    "        alias=\"latest_docs\"\n",
    "    )\n",
    "\n",
    "except Exception as e:\n",
    "    print(f\"Insertion process failed: {e}\")\n"
   ]
  },
  {
   "cell_type": "code",
   "execution_count": 7,
   "metadata": {},
   "outputs": [
    {
     "name": "stdout",
     "output_type": "stream",
     "text": [
      "Explain Bhagavad Gita\n",
      "{'dense': [array([-0.05035954, -0.00241854, -0.04419456, ..., -0.01265165,\n",
      "        0.0194218 , -0.03085409], dtype=float32)], 'sparse': <Compressed Sparse Row sparse array of dtype 'float64'\n",
      "\twith 6 stored elements and shape (1, 250002)>}\n"
     ]
    }
   ],
   "source": [
    "# Enter your search query\n",
    "query = \"Explain Bhagavad Gita\"\n",
    "print(query)\n",
    "\n",
    "# Generate embeddings for the query\n",
    "query_embeddings = ef([query])\n",
    "print(query_embeddings)"
   ]
  }
 ],
 "metadata": {
  "kernelspec": {
   "display_name": "myenv",
   "language": "python",
   "name": "python3"
  },
  "language_info": {
   "codemirror_mode": {
    "name": "ipython",
    "version": 3
   },
   "file_extension": ".py",
   "mimetype": "text/x-python",
   "name": "python",
   "nbconvert_exporter": "python",
   "pygments_lexer": "ipython3",
   "version": "3.12.7"
  }
 },
 "nbformat": 4,
 "nbformat_minor": 2
}
